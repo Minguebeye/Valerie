{
 "cells": [
  {
   "cell_type": "code",
   "execution_count": 7,
   "id": "3553d936",
   "metadata": {},
   "outputs": [
    {
     "name": "stdout",
     "output_type": "stream",
     "text": [
      "2\n"
     ]
    }
   ],
   "source": [
    "#ecrire un programme aui renvoi la plus petite des valeurs\n",
    "x = 2\n",
    "y = 5\n",
    "min_max = (x,y)\n",
    "if x < y:\n",
    "    print(x)\n"
   ]
  },
  {
   "cell_type": "markdown",
   "id": "43e88653",
   "metadata": {},
   "source": [
    "\n"
   ]
  },
  {
   "cell_type": "code",
   "execution_count": 9,
   "id": "1e8ee3fe",
   "metadata": {},
   "outputs": [],
   "source": []
  },
  {
   "cell_type": "code",
   "execution_count": 4,
   "id": "7e309751",
   "metadata": {},
   "outputs": [
    {
     "data": {
      "text/plain": [
       "5"
      ]
     },
     "execution_count": 4,
     "metadata": {},
     "output_type": "execute_result"
    }
   ],
   "source": [
    "5"
   ]
  },
  {
   "cell_type": "code",
   "execution_count": null,
   "id": "6c06778c",
   "metadata": {},
   "outputs": [],
   "source": [
    "# un scipt longueur_chaine et affiche la plus grande des 2\n",
    "a = \"Minguebeye\"\n",
    "b = \"Valerie\"\n",
    "longueur_chaine = (\"a\",\"b\")\n",
    "if a > b:\n",
    "    print(a)"
   ]
  },
  {
   "cell_type": "code",
   "execution_count": null,
   "id": "08d7636c",
   "metadata": {},
   "outputs": [],
   "source": []
  }
 ],
 "metadata": {
  "kernelspec": {
   "display_name": "Python 3",
   "language": "python",
   "name": "python3"
  },
  "language_info": {
   "codemirror_mode": {
    "name": "ipython",
    "version": 3
   },
   "file_extension": ".py",
   "mimetype": "text/x-python",
   "name": "python",
   "nbconvert_exporter": "python",
   "pygments_lexer": "ipython3",
   "version": "3.8.8"
  }
 },
 "nbformat": 4,
 "nbformat_minor": 5
}
